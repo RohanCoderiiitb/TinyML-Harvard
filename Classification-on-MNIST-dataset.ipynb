{
  "cells": [
    {
      "cell_type": "markdown",
      "metadata": {
        "id": "view-in-github",
        "colab_type": "text"
      },
      "source": [
        "<a href=\"https://colab.research.google.com/github/RohanCoderiiitb/TinyML-Harvard/blob/main/Classification-on-MNIST-dataset.ipynb\" target=\"_parent\"><img src=\"https://colab.research.google.com/assets/colab-badge.svg\" alt=\"Open In Colab\"/></a>"
      ]
    },
    {
      "cell_type": "code",
      "source": [
        "import sys\n",
        "import pandas as pd\n",
        "import numpy as np\n",
        "import matplotlib.pyplot as plt\n",
        "import tensorflow as tf"
      ],
      "metadata": {
        "id": "NsmYUgIgdpue"
      },
      "execution_count": 1,
      "outputs": []
    },
    {
      "cell_type": "code",
      "source": [
        "dataset = tf.keras.datasets.mnist\n",
        "(training_images, training_labels),(val_images, val_labels) = dataset.load_data()\n",
        "plt.figure(figsize=(10, 2))\n",
        "for i in range(10):\n",
        "  plt.subplot(1, 10, i+1)\n",
        "  plt.xticks([])\n",
        "  plt.yticks([])\n",
        "  plt.grid(False)\n",
        "  plt.imshow(training_images[i], cmap='gray')\n",
        "  plt.title(training_labels[i])\n",
        "plt.show()"
      ],
      "metadata": {
        "colab": {
          "base_uri": "https://localhost:8080/",
          "height": 125
        },
        "id": "regbRIycf2vE",
        "outputId": "b70c9098-e7d0-4009-8ed8-c3234208d2a3"
      },
      "execution_count": 2,
      "outputs": [
        {
          "output_type": "display_data",
          "data": {
            "text/plain": [
              "<Figure size 1000x200 with 10 Axes>"
            ],
            "image/png": "[encoded data removed]"
          },
          "metadata": {}
        }
      ]
    },
    {
      "cell_type": "code",
      "source": [
        "training_images = training_images/255.0\n",
        "val_images = val_images/255.0\n",
        "layer1 = tf.keras.layers.Dense(units=20, activation=tf.nn.relu)\n",
        "layer2 = tf.keras.layers.Dense(units=10, activation=tf.nn.softmax)\n",
        "model = tf.keras.models.Sequential([tf.keras.layers.Flatten(input_shape=(28,28)),\n",
        "                                    layer1,\n",
        "                                    layer2])\n",
        "model.compile(optimizer='adam', loss='sparse_categorical_crossentropy', metrics=['accuracy'])\n",
        "model.fit(training_images, training_labels, epochs=20, validation_data=(val_images, val_labels))"
      ],
      "metadata": {
        "colab": {
          "base_uri": "https://localhost:8080/"
        },
        "id": "4XXo53fKgkHZ",
        "outputId": "20cd0f03-85cf-4f21-fe06-3845afa23217"
      },
      "execution_count": 4,
      "outputs": [
        {
          "output_type": "stream",
          "name": "stderr",
          "text": [
            "/usr/local/lib/python3.11/dist-packages/keras/src/layers/reshaping/flatten.py:37: UserWarning: Do not pass an `input_shape`/`input_dim` argument to a layer. When using Sequential models, prefer using an `Input(shape)` object as the first layer in the model instead.\n",
            "  super().__init__(**kwargs)\n"
          ]
        },
        {
          "output_type": "stream",
          "name": "stdout",
          "text": [
            "Epoch 1/20\n",
            "\u001b[1m1875/1875\u001b[0m \u001b[32m━━━━━━━━━━━━━━━━━━━━\u001b[0m\u001b[37m\u001b[0m \u001b[1m8s\u001b[0m 3ms/step - accuracy: 0.4084 - loss: 2.0428 - val_accuracy: 0.7593 - val_loss: 1.0860\n",
            "Epoch 2/20\n",
            "\u001b[1m1875/1875\u001b[0m \u001b[32m━━━━━━━━━━━━━━━━━━━━\u001b[0m\u001b[37m\u001b[0m \u001b[1m8s\u001b[0m 3ms/step - accuracy: 0.7760 - loss: 0.9627 - val_accuracy: 0.8323 - val_loss: 0.6827\n",
            "Epoch 3/20\n",
            "\u001b[1m1875/1875\u001b[0m \u001b[32m━━━━━━━━━━━━━━━━━━━━\u001b[0m\u001b[37m\u001b[0m \u001b[1m5s\u001b[0m 3ms/step - accuracy: 0.8365 - loss: 0.6502 - val_accuracy: 0.8603 - val_loss: 0.5309\n",
            "Epoch 4/20\n",
            "\u001b[1m1875/1875\u001b[0m \u001b[32m━━━━━━━━━━━━━━━━━━━━\u001b[0m\u001b[37m\u001b[0m \u001b[1m5s\u001b[0m 3ms/step - accuracy: 0.8659 - loss: 0.5168 - val_accuracy: 0.8796 - val_loss: 0.4529\n",
            "Epoch 5/20\n",
            "\u001b[1m1875/1875\u001b[0m \u001b[32m━━━━━━━━━━━━━━━━━━━━\u001b[0m\u001b[37m\u001b[0m \u001b[1m5s\u001b[0m 3ms/step - accuracy: 0.8784 - loss: 0.4542 - val_accuracy: 0.8893 - val_loss: 0.4067\n",
            "Epoch 6/20\n",
            "\u001b[1m1875/1875\u001b[0m \u001b[32m━━━━━━━━━━━━━━━━━━━━\u001b[0m\u001b[37m\u001b[0m \u001b[1m6s\u001b[0m 3ms/step - accuracy: 0.8872 - loss: 0.4150 - val_accuracy: 0.8968 - val_loss: 0.3763\n",
            "Epoch 7/20\n",
            "\u001b[1m1875/1875\u001b[0m \u001b[32m━━━━━━━━━━━━━━━━━━━━\u001b[0m\u001b[37m\u001b[0m \u001b[1m6s\u001b[0m 3ms/step - accuracy: 0.8963 - loss: 0.3806 - val_accuracy: 0.9006 - val_loss: 0.3547\n",
            "Epoch 8/20\n",
            "\u001b[1m1875/1875\u001b[0m \u001b[32m━━━━━━━━━━━━━━━━━━━━\u001b[0m\u001b[37m\u001b[0m \u001b[1m6s\u001b[0m 3ms/step - accuracy: 0.8992 - loss: 0.3629 - val_accuracy: 0.9043 - val_loss: 0.3396\n",
            "Epoch 9/20\n",
            "\u001b[1m1875/1875\u001b[0m \u001b[32m━━━━━━━━━━━━━━━━━━━━\u001b[0m\u001b[37m\u001b[0m \u001b[1m10s\u001b[0m 3ms/step - accuracy: 0.9009 - loss: 0.3501 - val_accuracy: 0.9080 - val_loss: 0.3275\n",
            "Epoch 10/20\n",
            "\u001b[1m1875/1875\u001b[0m \u001b[32m━━━━━━━━━━━━━━━━━━━━\u001b[0m\u001b[37m\u001b[0m \u001b[1m10s\u001b[0m 3ms/step - accuracy: 0.9039 - loss: 0.3411 - val_accuracy: 0.9105 - val_loss: 0.3193\n",
            "Epoch 11/20\n",
            "\u001b[1m1875/1875\u001b[0m \u001b[32m━━━━━━━━━━━━━━━━━━━━\u001b[0m\u001b[37m\u001b[0m \u001b[1m9s\u001b[0m 3ms/step - accuracy: 0.9076 - loss: 0.3261 - val_accuracy: 0.9119 - val_loss: 0.3113\n",
            "Epoch 12/20\n",
            "\u001b[1m1875/1875\u001b[0m \u001b[32m━━━━━━━━━━━━━━━━━━━━\u001b[0m\u001b[37m\u001b[0m \u001b[1m6s\u001b[0m 3ms/step - accuracy: 0.9101 - loss: 0.3119 - val_accuracy: 0.9115 - val_loss: 0.3056\n",
            "Epoch 13/20\n",
            "\u001b[1m1875/1875\u001b[0m \u001b[32m━━━━━━━━━━━━━━━━━━━━\u001b[0m\u001b[37m\u001b[0m \u001b[1m5s\u001b[0m 3ms/step - accuracy: 0.9111 - loss: 0.3129 - val_accuracy: 0.9127 - val_loss: 0.3002\n",
            "Epoch 14/20\n",
            "\u001b[1m1875/1875\u001b[0m \u001b[32m━━━━━━━━━━━━━━━━━━━━\u001b[0m\u001b[37m\u001b[0m \u001b[1m5s\u001b[0m 3ms/step - accuracy: 0.9108 - loss: 0.3089 - val_accuracy: 0.9138 - val_loss: 0.2962\n",
            "Epoch 15/20\n",
            "\u001b[1m1875/1875\u001b[0m \u001b[32m━━━━━━━━━━━━━━━━━━━━\u001b[0m\u001b[37m\u001b[0m \u001b[1m10s\u001b[0m 3ms/step - accuracy: 0.9139 - loss: 0.3026 - val_accuracy: 0.9153 - val_loss: 0.2927\n",
            "Epoch 16/20\n",
            "\u001b[1m1875/1875\u001b[0m \u001b[32m━━━━━━━━━━━━━━━━━━━━\u001b[0m\u001b[37m\u001b[0m \u001b[1m5s\u001b[0m 3ms/step - accuracy: 0.9132 - loss: 0.3015 - val_accuracy: 0.9151 - val_loss: 0.2896\n",
            "Epoch 17/20\n",
            "\u001b[1m1875/1875\u001b[0m \u001b[32m━━━━━━━━━━━━━━━━━━━━\u001b[0m\u001b[37m\u001b[0m \u001b[1m5s\u001b[0m 3ms/step - accuracy: 0.9118 - loss: 0.3023 - val_accuracy: 0.9175 - val_loss: 0.2866\n",
            "Epoch 18/20\n",
            "\u001b[1m1875/1875\u001b[0m \u001b[32m━━━━━━━━━━━━━━━━━━━━\u001b[0m\u001b[37m\u001b[0m \u001b[1m6s\u001b[0m 3ms/step - accuracy: 0.9167 - loss: 0.2939 - val_accuracy: 0.9169 - val_loss: 0.2823\n",
            "Epoch 19/20\n",
            "\u001b[1m1875/1875\u001b[0m \u001b[32m━━━━━━━━━━━━━━━━━━━━\u001b[0m\u001b[37m\u001b[0m \u001b[1m10s\u001b[0m 3ms/step - accuracy: 0.9156 - loss: 0.2924 - val_accuracy: 0.9187 - val_loss: 0.2816\n",
            "Epoch 20/20\n",
            "\u001b[1m1875/1875\u001b[0m \u001b[32m━━━━━━━━━━━━━━━━━━━━\u001b[0m\u001b[37m\u001b[0m \u001b[1m9s\u001b[0m 3ms/step - accuracy: 0.9188 - loss: 0.2824 - val_accuracy: 0.9197 - val_loss: 0.2777\n"
          ]
        },
        {
          "output_type": "execute_result",
          "data": {
            "text/plain": [
              "<keras.src.callbacks.history.History at 0x79f391f44250>"
            ]
          },
          "metadata": {},
          "execution_count": 4
        }
      ]
    },
    {
      "cell_type": "code",
      "source": [
        "for i in range(10):\n",
        "  plt.subplot(1,10,i+1)\n",
        "  plt.xticks([])\n",
        "  plt.yticks([])\n",
        "  plt.grid(False)\n",
        "  plt.imshow(val_images[i], cmap='gray')\n",
        "  plt.title(val_labels[i])\n",
        "plt.show()"
      ],
      "metadata": {
        "colab": {
          "base_uri": "https://localhost:8080/",
          "height": 101
        },
        "id": "9ux4-kNii4WQ",
        "outputId": "b723842c-0f13-43a3-c63d-64266f6c41eb"
      },
      "execution_count": 5,
      "outputs": [
        {
          "output_type": "display_data",
          "data": {
            "text/plain": [
              "<Figure size 640x480 with 10 Axes>"
            ],
            "image/png": "[encoded data removed]"
          },
          "metadata": {}
        }
      ]
    },
    {
      "cell_type": "code",
      "source": [
        "model.evaluate(val_images, val_labels)\n",
        "classifications = model.predict(val_images)\n",
        "print(classifications[8])\n",
        "print(val_labels[8])"
      ],
      "metadata": {
        "colab": {
          "base_uri": "https://localhost:8080/"
        },
        "id": "mDoC8Emsj1X7",
        "outputId": "19c7e9f6-da90-4363-d217-77e5ddbfb24e"
      },
      "execution_count": 8,
      "outputs": [
        {
          "output_type": "stream",
          "name": "stdout",
          "text": [
            "\u001b[1m313/313\u001b[0m \u001b[32m━━━━━━━━━━━━━━━━━━━━\u001b[0m\u001b[37m\u001b[0m \u001b[1m1s\u001b[0m 3ms/step - accuracy: 0.9077 - loss: 0.3148\n",
            "\u001b[1m313/313\u001b[0m \u001b[32m━━━━━━━━━━━━━━━━━━━━\u001b[0m\u001b[37m\u001b[0m \u001b[1m0s\u001b[0m 1ms/step\n",
            "[7.2854426e-04 6.6033215e-07 3.1895193e-04 2.6065447e-07 1.1829134e-02\n",
            " 1.8893440e-03 9.8437184e-01 2.5674535e-07 6.5490452e-04 2.0620953e-04]\n",
            "5\n"
          ]
        }
      ]
    },
    {
      "cell_type": "code",
      "source": [
        "print(layer1.get_weights())"
      ],
      "metadata": {
        "colab": {
          "base_uri": "https://localhost:8080/"
        },
        "id": "bPoJp2AzkCld",
        "outputId": "38009083-73e7-42ee-f05e-502883685b54"
      },
      "execution_count": 10,
      "outputs": [
        {
          "output_type": "stream",
          "name": "stdout",
          "text": [
            "[array([[-0.05042274, -0.02016091, -0.01592678, ...,  0.03441352,\n",
            "        -0.00622603, -0.01221451],\n",
            "       [ 0.057474  , -0.07725617, -0.02525623, ..., -0.05347617,\n",
            "         0.0604814 , -0.01022683],\n",
            "       [-0.01010092, -0.01440948,  0.02544567, ..., -0.01401874,\n",
            "         0.01134776, -0.06888687],\n",
            "       ...,\n",
            "       [ 0.07125403,  0.06904265, -0.03711778, ..., -0.02203712,\n",
            "        -0.02753846,  0.00303051],\n",
            "       [ 0.08323728, -0.03560762,  0.03817208, ...,  0.08510228,\n",
            "         0.02880131,  0.06855966],\n",
            "       [-0.00375208, -0.08509272,  0.0417002 , ..., -0.02863972,\n",
            "         0.01525246,  0.05551037]], dtype=float32), array([ 0.20173596,  0.3707017 ,  0.36552703, -0.00772644, -0.00955323,\n",
            "        0.29808247, -0.0100176 ,  0.27458254,  0.14506024,  0.25114235,\n",
            "        0.14258473,  0.84406406, -0.00556891,  0.4732587 , -0.00737281,\n",
            "        0.0558282 ,  0.32348484,  0.5969836 ,  0.13409367,  0.6487684 ],\n",
            "      dtype=float32)]\n"
          ]
        }
      ]
    },
    {
      "cell_type": "code",
      "source": [
        "print(layer2.get_weights())"
      ],
      "metadata": {
        "colab": {
          "base_uri": "https://localhost:8080/"
        },
        "id": "x4OAmoLQkQAl",
        "outputId": "edffcb86-6f29-4069-8f79-fafaab3c3e3f"
      },
      "execution_count": 11,
      "outputs": [
        {
          "output_type": "stream",
          "name": "stdout",
          "text": [
            "[array([[ 2.6885743 ,  2.2083888 ,  1.6243197 ,  2.851217  , -8.474994  ,\n",
            "        -2.7626865 , -5.5948515 ,  1.8355021 , -0.01249496,  1.2099605 ],\n",
            "       [-4.919486  ,  0.98401165, -1.1933863 , -1.7189928 ,  1.766268  ,\n",
            "        -3.241449  ,  3.6966193 ,  0.26664224, -1.5135151 ,  2.2428265 ],\n",
            "       [-1.955168  ,  1.6885194 , -5.0763507 ,  1.6727852 ,  3.6291492 ,\n",
            "         1.1565444 ,  2.5797791 , -5.200985  , -1.6113222 ,  0.7940067 ],\n",
            "       [-0.14428352, -0.2600167 ,  0.12075297, -0.09838908, -0.36441538,\n",
            "         0.16061461,  0.42186624, -0.42493114,  0.24629036, -0.24460377],\n",
            "       [ 0.15090314, -0.27666193, -0.34873438,  0.405111  ,  0.40098965,\n",
            "        -0.10072531,  0.09811644, -0.08235738, -0.43508685,  0.10154811],\n",
            "       [-2.3729358 ,  0.7136222 , -4.3774233 , -4.9481745 ,  0.72709703,\n",
            "         3.029794  , -7.618548  ,  1.5289689 ,  3.32725   ,  1.725971  ],\n",
            "       [-0.04807056,  0.28455514, -0.35430583,  0.42358288, -0.34565762,\n",
            "        -0.12311258, -0.10919798, -0.32816654, -0.27068007, -0.12534   ],\n",
            "       [-3.6353507 ,  3.8128834 , -2.5631373 ,  1.6271536 , -1.5870726 ,\n",
            "        -5.340781  , -3.5534742 ,  3.35583   , -1.474456  ,  2.8755622 ],\n",
            "       [-5.297295  ,  0.7178963 ,  1.7747569 ,  2.2675157 ,  2.303687  ,\n",
            "         1.393518  , -3.8549886 , -5.7928314 ,  2.2553098 , -0.7703662 ],\n",
            "       [-3.2661026 , -1.5613477 ,  0.99468124, -5.350859  , -0.22345491,\n",
            "        -2.6520202 ,  3.419319  ,  0.5275511 ,  0.91070205,  2.5246835 ],\n",
            "       [ 3.279418  , -6.596418  , -5.2663035 , -2.1406214 ,  2.2558496 ,\n",
            "        -0.8807251 ,  0.94770694,  0.286459  ,  3.3142316 ,  1.2014924 ],\n",
            "       [ 1.380199  , -1.3242978 ,  2.2906802 ,  1.1016245 , -1.9669408 ,\n",
            "         0.18033768,  1.0561234 , -1.4608904 ,  0.07379197, -3.5315933 ],\n",
            "       [-0.07473033,  0.11141919, -0.2555301 ,  0.06342789,  0.21925512,\n",
            "        -0.26175702,  0.372598  , -0.12660414, -0.11440766,  0.20456609],\n",
            "       [-5.4634695 ,  1.5703713 , -4.3272233 ,  2.3362389 , -0.40775076,\n",
            "         1.5614626 , -5.237472  ,  4.0771    , -2.1584666 ,  0.29072377],\n",
            "       [ 0.23640423,  0.02785044, -0.3583198 , -0.21299428,  0.25764567,\n",
            "        -0.02757012, -0.18840736, -0.4053911 ,  0.21904135, -0.376074  ],\n",
            "       [-1.4703779 , -7.624735  ,  3.2795978 ,  2.3310509 ,  0.8974076 ,\n",
            "        -3.7514026 , -5.3633165 ,  0.44065228,  0.15352969,  3.4299026 ],\n",
            "       [-3.7657332 ,  2.7568772 ,  2.6257677 , -1.4155593 ,  1.850211  ,\n",
            "        -3.2895894 ,  0.5306272 ,  2.3393307 ,  0.32795122, -5.277474  ],\n",
            "       [ 4.087654  , -6.1326118 ,  0.1687616 , -2.9750118 ,  2.866008  ,\n",
            "         1.0165744 , -1.0626571 ,  2.5100284 , -6.643278  ,  0.3065916 ],\n",
            "       [ 1.6150925 , -4.9472547 , -1.4740024 ,  2.328251  , -7.484375  ,\n",
            "         3.4806476 , -2.2011912 ,  1.0934571 ,  0.03660659, -2.3379076 ],\n",
            "       [ 1.4242418 ,  1.4509902 ,  1.1931678 , -1.6923735 , -3.5161688 ,\n",
            "         1.7238648 ,  2.0656223 , -5.14035   ,  0.9621805 , -1.237828  ]],\n",
            "      dtype=float32), array([ 0.4712508 , -0.06488959,  0.59477776, -0.0791157 , -0.02616506,\n",
            "        0.3297282 ,  0.30107638, -0.08380374, -0.78232586, -0.46506247],\n",
            "      dtype=float32)]\n"
          ]
        }
      ]
    },
    {
      "cell_type": "code",
      "source": [],
      "metadata": {
        "id": "H9gYapoakWjK"
      },
      "execution_count": null,
      "outputs": []
    }
  ],
  "metadata": {
    "accelerator": "GPU",
    "colab": {
      "provenance": [],
      "include_colab_link": true
    },
    "kernelspec": {
      "display_name": "Python 3",
      "language": "python",
      "name": "python3"
    },
    "language_info": {
      "codemirror_mode": {
        "name": "ipython",
        "version": 3
      },
      "file_extension": ".py",
      "mimetype": "text/x-python",
      "name": "python",
      "nbconvert_exporter": "python",
      "pygments_lexer": "ipython3",
      "version": "3.6.9"
    }
  },
  "nbformat": 4,
  "nbformat_minor": 0
}